{
 "cells": [
  {
   "cell_type": "markdown",
   "metadata": {},
   "source": [
    "# Support Vector Machine with Boston Housing Dataset\n"
   ]
  },
  {
   "cell_type": "markdown",
   "metadata": {},
   "source": [
    "Description of the dataset: \n",
    "\n",
    "Boston dataset contains information collected by the U.S Census Service concerning housing in the area of Boston Mass.\n",
    "In total, there are 506 instances (rows) and each has 14 attributes (columns). Target variable is`MEDV` or *Median value of owner-occupied homes in $1000's*with the other 13 being corresponding values like: per capita crime rate by town, proportion of non-retail business acres per town, and average number of rooms per dwelling."
   ]
  },
  {
   "cell_type": "code",
   "execution_count": 43,
   "metadata": {},
   "outputs": [],
   "source": [
    "## TODO: About the algorithm"
   ]
  },
  {
   "cell_type": "markdown",
   "metadata": {},
   "source": [
    "## 1. Loading the Data"
   ]
  },
  {
   "cell_type": "code",
   "execution_count": 44,
   "metadata": {},
   "outputs": [],
   "source": [
    "# !pip install keras # TODO: update Dockerfile "
   ]
  },
  {
   "cell_type": "code",
   "execution_count": 45,
   "metadata": {},
   "outputs": [],
   "source": [
    "#Load Boston Dataset\n",
    "\n",
    "from keras.datasets import boston_housing\n",
    "(X_train,y_train), (X_test,y_test)= boston_housing.load_data()\n"
   ]
  },
  {
   "cell_type": "code",
   "execution_count": 51,
   "metadata": {},
   "outputs": [
    {
     "name": "stdout",
     "output_type": "stream",
     "text": [
      "Shape of training dataset : (404, 13)\n",
      "--------------------------------------\n",
      "Shape of testing dataset: (102, 13)\n"
     ]
    }
   ],
   "source": [
    "print(\"Shape of training dataset :\" , X_train.shape);\n",
    "print(\"--------------------------------------\")\n",
    "print(\"Shape of testing dataset:\", X_test.shape)"
   ]
  },
  {
   "cell_type": "markdown",
   "metadata": {},
   "source": [
    "## 2.  Fit SVM Regression Model for Price Prediction\n",
    "The regression version of SVM can be used instead to find the hyperplane.\n",
    "\n"
   ]
  },
  {
   "cell_type": "code",
   "execution_count": 47,
   "metadata": {},
   "outputs": [],
   "source": [
    "from sklearn.svm import SVR\n",
    "\n",
    "regressor = SVR(kernel=\"linear\")\n",
    "regressor.fit(X_train, y_train)\n",
    "\n",
    "y_pred = regressor.predict(X_test)"
   ]
  },
  {
   "cell_type": "markdown",
   "metadata": {},
   "source": [
    "## 3. Performance "
   ]
  },
  {
   "cell_type": "code",
   "execution_count": 48,
   "metadata": {},
   "outputs": [],
   "source": [
    "from sklearn.metrics import mean_squared_error, r2_score\n",
    "import numpy as np"
   ]
  },
  {
   "cell_type": "code",
   "execution_count": 49,
   "metadata": {},
   "outputs": [
    {
     "name": "stdout",
     "output_type": "stream",
     "text": [
      "The model performance for training set\n",
      "--------------------------------------\n",
      "Root Mean Squared Error: 4.39\n",
      "R^2: 0.77\n",
      "\n",
      "\n"
     ]
    }
   ],
   "source": [
    "rmse = round(np.sqrt(mean_squared_error(y_test, y_pred)),2)\n",
    "r2 = round(r2_score(y_test, y_pred),2)\n",
    "\n",
    "print(\"The model performance for training set\")\n",
    "print(\"--------------------------------------\")\n",
    "print(\"Root Mean Squared Error: {}\".format(rmse))\n",
    "print(\"R^2: {}\".format(r2))\n",
    "print(\"\\n\")"
   ]
  },
  {
   "cell_type": "code",
   "execution_count": 50,
   "metadata": {},
   "outputs": [
    {
     "data": {
      "image/png": "[encoded data removed]",
      "text/plain": [
       "<Figure size 432x288 with 1 Axes>"
      ]
     },
     "metadata": {
      "needs_background": "light"
     },
     "output_type": "display_data"
    }
   ],
   "source": [
    "import matplotlib.pyplot as plt\n",
    "%matplotlib inline\n",
    "# scatter actual and predicted results\n",
    "plt.xlabel(\"True price\")\n",
    "plt.ylabel(\"Predicted price\")\n",
    "\n",
    "plt.scatter(y_test, y_pred, marker='.')\n",
    "plt.xticks(range(0, int(max(y_test)),4))\n",
    "plt.yticks(range(0, int(max(y_test)),4))\n",
    "plt.xlabel(\"Actual House Prices : $Y_i$\")\n",
    "plt.ylabel(\"Predicted House Prices : $\\hat{Y}_i$\")\n",
    "plt.title(\"Prices vs Predicted prices: $Y_i$ vs $\\hat{Y}_i$\")\n",
    "\n",
    "plt.show()"
   ]
  },
  {
   "cell_type": "code",
   "execution_count": null,
   "metadata": {},
   "outputs": [],
   "source": []
  },
  {
   "cell_type": "code",
   "execution_count": null,
   "metadata": {},
   "outputs": [],
   "source": []
  },
  {
   "cell_type": "code",
   "execution_count": null,
   "metadata": {},
   "outputs": [],
   "source": []
  }
 ],
 "metadata": {
  "kernelspec": {
   "display_name": "Python 3",
   "language": "python",
   "name": "python3"
  },
  "language_info": {
   "codemirror_mode": {
    "name": "ipython",
    "version": 3
   },
   "file_extension": ".py",
   "mimetype": "text/x-python",
   "name": "python",
   "nbconvert_exporter": "python",
   "pygments_lexer": "ipython3",
   "version": "3.6.7"
  }
 },
 "nbformat": 4,
 "nbformat_minor": 4
}
