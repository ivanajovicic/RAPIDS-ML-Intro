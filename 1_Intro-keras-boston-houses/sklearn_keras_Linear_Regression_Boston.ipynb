{
 "cells": [
  {
   "cell_type": "markdown",
   "metadata": {},
   "source": [
    "# Linear Regression with Boston Housing Dataset\n"
   ]
  },
  {
   "cell_type": "markdown",
   "metadata": {},
   "source": [
    "Description of the dataset: \n",
    "\n",
    "Boston dataset contains information collected by the U.S Census Service concerning housing in the area of Boston Mass.\n",
    "In total, there are 506 instances (rows) and each has 14 attributes (columns). Target variable is`MEDV` or *Median value of owner-occupied homes in $1000's*with the other 13 being corresponding values like: per capita crime rate by town, proportion of non-retail business acres per town, and average number of rooms per dwelling."
   ]
  },
  {
   "cell_type": "markdown",
   "metadata": {},
   "source": [
    "## 1. Loading the Data"
   ]
  },
  {
   "cell_type": "code",
   "execution_count": 57,
   "metadata": {},
   "outputs": [],
   "source": [
    "# !pip install keras # TODO: update Dockerfile "
   ]
  },
  {
   "cell_type": "code",
   "execution_count": 58,
   "metadata": {},
   "outputs": [
    {
     "name": "stdout",
     "output_type": "stream",
     "text": [
      "[[5.82115e+00 0.00000e+00 1.81000e+01 ... 2.02000e+01 3.93820e+02\n",
      "  1.02900e+01]\n",
      " [1.12658e+00 0.00000e+00 1.95800e+01 ... 1.47000e+01 3.43280e+02\n",
      "  1.21200e+01]\n",
      " [7.88600e-02 8.00000e+01 4.95000e+00 ... 1.92000e+01 3.96900e+02\n",
      "  3.56000e+00]\n",
      " ...\n",
      " [3.15330e-01 0.00000e+00 6.20000e+00 ... 1.74000e+01 3.85050e+02\n",
      "  4.14000e+00]\n",
      " [8.24809e+00 0.00000e+00 1.81000e+01 ... 2.02000e+01 3.75870e+02\n",
      "  1.67400e+01]\n",
      " [4.41780e-01 0.00000e+00 6.20000e+00 ... 1.74000e+01 3.80340e+02\n",
      "  3.76000e+00]]\n"
     ]
    }
   ],
   "source": [
    "#Load Boston Dataset\n",
    "\n",
    "from keras.datasets import boston_housing\n",
    "\n",
    "(X_train,y_train), (X_test,y_test)= boston_housing.load_data(seed = 2)\n",
    "# print(boston_df.DESCR)\n",
    "\n",
    "print(X_train)"
   ]
  },
  {
   "cell_type": "code",
   "execution_count": 59,
   "metadata": {},
   "outputs": [
    {
     "name": "stdout",
     "output_type": "stream",
     "text": [
      "Shape of training dataset : (404, 13)\n",
      "--------------------------------------\n",
      "Shape of testing dataset: (102, 13)\n"
     ]
    }
   ],
   "source": [
    "print(\"Shape of training dataset :\" , X_train.shape);\n",
    "print(\"--------------------------------------\")\n",
    "print(\"Shape of testing dataset:\", X_test.shape)"
   ]
  },
  {
   "cell_type": "markdown",
   "metadata": {},
   "source": [
    "## 2.  Fit Linear Regression Model using Sklearn "
   ]
  },
  {
   "cell_type": "code",
   "execution_count": 60,
   "metadata": {},
   "outputs": [],
   "source": [
    "from sklearn.linear_model import LinearRegression\n"
   ]
  },
  {
   "cell_type": "code",
   "execution_count": 61,
   "metadata": {},
   "outputs": [],
   "source": [
    "# call Linear Regression model\n",
    "lr = LinearRegression()\n",
    "\n",
    "# train the model for multiple regression\n",
    "lr.fit(X_train, y_train)\n",
    "\n",
    "# make predictions for test X values\n",
    "y_pred = lr.predict(X_test)\n"
   ]
  },
  {
   "cell_type": "markdown",
   "metadata": {},
   "source": [
    "## 3. Performance "
   ]
  },
  {
   "cell_type": "code",
   "execution_count": 62,
   "metadata": {},
   "outputs": [],
   "source": [
    "from sklearn.metrics import mean_squared_error, r2_score\n",
    "import numpy as np"
   ]
  },
  {
   "cell_type": "code",
   "execution_count": 63,
   "metadata": {},
   "outputs": [
    {
     "name": "stdout",
     "output_type": "stream",
     "text": [
      "The model performance for training set\n",
      "--------------------------------------\n",
      "Root Mean Squared Error: 3.72\n",
      "R^2: 0.77\n",
      "\n",
      "\n"
     ]
    }
   ],
   "source": [
    "rmse = round(np.sqrt(mean_squared_error(y_test, y_pred)),2)\n",
    "r2 = round(r2_score(y_test, y_pred),2)\n",
    "\n",
    "print(\"The model performance for training set\")\n",
    "print(\"--------------------------------------\")\n",
    "print(\"Root Mean Squared Error: {}\".format(rmse))\n",
    "print(\"R^2: {}\".format(r2))\n",
    "print(\"\\n\")"
   ]
  },
  {
   "cell_type": "code",
   "execution_count": 64,
   "metadata": {},
   "outputs": [
    {
     "data": {
      "image/png": "[encoded data removed]",
      "text/plain": [
       "<Figure size 432x288 with 1 Axes>"
      ]
     },
     "metadata": {
      "needs_background": "light"
     },
     "output_type": "display_data"
    }
   ],
   "source": [
    "import matplotlib.pyplot as plt\n",
    "%matplotlib inline\n",
    "# scatter actual and predicted results\n",
    "plt.scatter(y_test, y_pred, marker = \".\")\n",
    "\n",
    "# label graph\n",
    "plt.xticks(range(0, int(max(y_test)),4))\n",
    "plt.yticks(range(0, int(max(y_test)),4))\n",
    "\n",
    "\n",
    "\n",
    "plt.xlabel(\"Actual House Prices : $Y_i$\")\n",
    "plt.ylabel(\"Predicted House Prices : $\\hat{Y}_i$\")\n",
    "plt.title(\"Prices vs Predicted prices: $Y_i$ vs $\\hat{Y}_i$\")\n",
    "\n",
    "plt.show()"
   ]
  },
  {
   "cell_type": "code",
   "execution_count": null,
   "metadata": {},
   "outputs": [],
   "source": []
  },
  {
   "cell_type": "code",
   "execution_count": null,
   "metadata": {},
   "outputs": [],
   "source": []
  },
  {
   "cell_type": "code",
   "execution_count": null,
   "metadata": {},
   "outputs": [],
   "source": []
  }
 ],
 "metadata": {
  "kernelspec": {
   "display_name": "Python 3",
   "language": "python",
   "name": "python3"
  },
  "language_info": {
   "codemirror_mode": {
    "name": "ipython",
    "version": 3
   },
   "file_extension": ".py",
   "mimetype": "text/x-python",
   "name": "python",
   "nbconvert_exporter": "python",
   "pygments_lexer": "ipython3",
   "version": "3.6.7"
  }
 },
 "nbformat": 4,
 "nbformat_minor": 4
}
