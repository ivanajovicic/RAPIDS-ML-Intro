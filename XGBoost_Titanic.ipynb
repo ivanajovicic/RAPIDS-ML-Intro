{
 "cells": [
  {
   "cell_type": "markdown",
   "metadata": {},
   "source": [
    "## XGBoost with Titanic Dataset"
   ]
  },
  {
   "cell_type": "markdown",
   "metadata": {},
   "source": [
    "Titanic Dataset contains data for 891 of the real Titanic passengers. Each row represents a single person. The columns describe different attributes about the person including whether they survived, their age, their passenger-class, their sex, the fare they paid etc.\n"
   ]
  },
  {
   "cell_type": "markdown",
   "metadata": {},
   "source": [
    "### About the alogrithm"
   ]
  },
  {
   "cell_type": "markdown",
   "metadata": {},
   "source": []
  },
  {
   "cell_type": "code",
   "execution_count": null,
   "metadata": {},
   "outputs": [],
   "source": [
    "import os\n",
    "path = '/rapids/notebooks/ml_tutorial/ML_intro/data/'\n",
    "if not os.path.exists(str(path + 'titanic')):\n",
    "    print(\"error, data is missing!\")"
   ]
  },
  {
   "cell_type": "markdown",
   "metadata": {},
   "source": [
    "## 1. Loading the Data"
   ]
  },
  {
   "cell_type": "code",
   "execution_count": null,
   "metadata": {},
   "outputs": [],
   "source": [
    "import cudf\n",
    "titanic_gdf=  cudf.read_csv(str(path + 'titanic/train.csv')) #891x12"
   ]
  },
  {
   "cell_type": "markdown",
   "metadata": {},
   "source": [
    "## 2. Cleaning the Data "
   ]
  },
  {
   "cell_type": "code",
   "execution_count": null,
   "metadata": {},
   "outputs": [],
   "source": [
    "#encoding\n",
    "survived = titanic_gdf['Survived'] == 1\n",
    "die = titanic_gdf['Survived'] == 0\n"
   ]
  },
  {
   "cell_type": "code",
   "execution_count": null,
   "metadata": {},
   "outputs": [],
   "source": [
    "import numpy as np\n",
    "#encoding\n",
    "sex = np.zeros(len(titanic_gdf))\n",
    "sex[titanic_gdf['Sex']== 'male'] = 1\n",
    "sex[titanic_gdf['Sex']== 'female'] = 0\n",
    "titanic_gdf['Sex'] = sex"
   ]
  },
  {
   "cell_type": "code",
   "execution_count": null,
   "metadata": {},
   "outputs": [],
   "source": [
    "#Fill the NA values with the most common one \n",
    "titanic_gdf['Embarked'] = titanic_gdf['Embarked'].fillna('S')\n",
    "#encoding\n",
    "embarked = np.zeros(len(titanic_gdf))\n",
    "embarked[titanic_gdf['Embarked']== 'S'] = 1\n",
    "embarked[titanic_gdf['Embarked']== 'C'] = 2\n",
    "embarked[titanic_gdf['Embarked']== 'Q'] = 3\n",
    "titanic_gdf['Embarked'] = embarked"
   ]
  },
  {
   "cell_type": "code",
   "execution_count": null,
   "metadata": {},
   "outputs": [],
   "source": [
    "# Dealing with the missing values in the Age feature.\n",
    "\n",
    "titanic_gdf['Age'].fillna(titanic_gdf['Age'].mean(),inplace=True)\n",
    "age = np.zeros(len(titanic_gdf))\n",
    "#encoding\n",
    "age[titanic_gdf['Age']<20] = 1\n",
    "age[(titanic_gdf['Age']>=20)&(titanic_gdf['Age']<60)] = 2\n",
    "age[(titanic_gdf['Age']>=60)] = 3\n",
    "titanic_gdf['Age'] = age"
   ]
  },
  {
   "cell_type": "code",
   "execution_count": null,
   "metadata": {},
   "outputs": [],
   "source": [
    "# Dropping the columns .ipynb_checkpoints/e are not useing for the analysis \n",
    "titanic_gdf = titanic_gdf.drop(columns= ['PassengerId','Name','Ticket','Cabin'])"
   ]
  },
  {
   "cell_type": "code",
   "execution_count": null,
   "metadata": {},
   "outputs": [],
   "source": [
    "titanic_gdf.head()"
   ]
  },
  {
   "cell_type": "markdown",
   "metadata": {},
   "source": [
    "## 3. Splitting the Data into Training and Testing"
   ]
  },
  {
   "cell_type": "code",
   "execution_count": null,
   "metadata": {},
   "outputs": [],
   "source": [
    "import cudf\n",
    "from cuml.preprocessing.model_selection import train_test_split\n",
    "\n",
    "target = titanic_gdf['Survived']\n",
    "titanic_gdf = titanic_gdf.drop(['Survived'])"
   ]
  },
  {
   "cell_type": "code",
   "execution_count": null,
   "metadata": {},
   "outputs": [],
   "source": [
    "X_train, X_test, y_train, y_test = train_test_split(titanic_gdf, target,\n",
    "                                                    train_size=0.8, shuffle = False)"
   ]
  },
  {
   "cell_type": "code",
   "execution_count": null,
   "metadata": {},
   "outputs": [],
   "source": [
    "import xgboost as xgb; print('XGBoost Version:', xgb.__version__)"
   ]
  },
  {
   "cell_type": "code",
   "execution_count": null,
   "metadata": {},
   "outputs": [],
   "source": [
    "X_train = xgb.DMatrix(X_train, label= y_train)\n",
    "X_test = xgb.DMatrix(X_test, label = y_test)"
   ]
  },
  {
   "cell_type": "markdown",
   "metadata": {},
   "source": [
    "## 4. Modelling"
   ]
  },
  {
   "cell_type": "markdown",
   "metadata": {},
   "source": [
    "### 4.1. Define Parameters"
   ]
  },
  {
   "cell_type": "code",
   "execution_count": null,
   "metadata": {},
   "outputs": [],
   "source": [
    "params = {\n",
    "    'n_estimators': 750,\n",
    "    'max_depth': 3,\n",
    "    'learning_rate': 0.02,\n",
    "    'tree_method':'gpu_hist',\n",
    "    'objective': 'binary:logistic',\n",
    "    'gamma':  0.0,\n",
    "    'subsample': 0.8\n",
    "}\n"
   ]
  },
  {
   "cell_type": "markdown",
   "metadata": {},
   "source": [
    "### 4.2. Fit the model"
   ]
  },
  {
   "cell_type": "code",
   "execution_count": null,
   "metadata": {},
   "outputs": [],
   "source": [
    "model = xgb.train(params, X_train)"
   ]
  },
  {
   "cell_type": "markdown",
   "metadata": {},
   "source": [
    "### 4.3. Prediction"
   ]
  },
  {
   "cell_type": "code",
   "execution_count": null,
   "metadata": {},
   "outputs": [],
   "source": [
    "cuml_pred = model.predict(X_test)"
   ]
  },
  {
   "cell_type": "markdown",
   "metadata": {},
   "source": [
    "### 4.4. Scoring"
   ]
  },
  {
   "cell_type": "code",
   "execution_count": null,
   "metadata": {},
   "outputs": [],
   "source": [
    "from sklearn.metrics import accuracy_score"
   ]
  },
  {
   "cell_type": "code",
   "execution_count": null,
   "metadata": {},
   "outputs": [],
   "source": [
    "\n"
   ]
  },
  {
   "cell_type": "code",
   "execution_count": null,
   "metadata": {},
   "outputs": [],
   "source": []
  }
 ],
 "metadata": {
  "kernelspec": {
   "display_name": "Python 3",
   "language": "python",
   "name": "python3"
  },
  "language_info": {
   "codemirror_mode": {
    "name": "ipython",
    "version": 3
   },
   "file_extension": ".py",
   "mimetype": "text/x-python",
   "name": "python",
   "nbconvert_exporter": "python",
   "pygments_lexer": "ipython3",
   "version": "3.6.7"
  }
 },
 "nbformat": 4,
 "nbformat_minor": 4
}
